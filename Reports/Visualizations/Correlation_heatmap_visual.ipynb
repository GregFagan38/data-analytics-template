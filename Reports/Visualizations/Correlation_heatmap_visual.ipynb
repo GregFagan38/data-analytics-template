{
 "cells": [
  {
   "cell_type": "code",
   "execution_count": null,
   "metadata": {
    "vscode": {
     "languageId": "plaintext"
    }
   },
   "outputs": [],
   "source": [
    "import pandas as pd\n",
    "import numpy as np\n",
    "import matplotlib.pyplot as plt\n",
    "import seaborn as sns\n",
    "\n",
    "# Generate a sample dataset for demonstration\n",
    "np.random.seed(42)\n",
    "data = pd.DataFrame({\n",
    "    'feature_1': np.random.normal(50, 15, 1000),  # Normal distribution\n",
    "    'feature_2': np.random.uniform(10, 100, 1000),  # Uniform distribution\n",
    "    'feature_3': np.random.binomial(1, 0.5, 1000)  # Binary feature\n",
    "})\n",
    "\n",
    "# Set up the figure and axis\n",
    "fig, axes = plt.subplots(2, 3, figsize=(18, 10))\n",
    "\n",
    "# Plot 1: Histogram for feature_1\n",
    "sns.histplot(data['feature_1'], kde=True, ax=axes[0, 0], color='skyblue')\n",
    "axes[0, 0].set_title('Distribution of Feature 1')\n",
    "\n",
    "# Plot 2: Histogram for feature_2\n",
    "sns.histplot(data['feature_2'], kde=True, ax=axes[0, 1], color='orange')\n",
    "axes[0, 1].set_title('Distribution of Feature 2')\n",
    "\n",
    "# Plot 3: Histogram for feature_3\n",
    "sns.histplot(data['feature_3'], kde=True, ax=axes[0, 2], color='green')\n",
    "axes[0, 2].set_title('Distribution of Feature 3')\n",
    "\n",
    "# Plot 4: Boxplot for feature_1\n",
    "sns.boxplot(x=data['feature_1'], ax=axes[1, 0], color='skyblue')\n",
    "axes[1, 0].set_title('Boxplot of Feature 1')\n",
    "\n",
    "# Plot 5: Boxplot for feature_2\n",
    "sns.boxplot(x=data['feature_2'], ax=axes[1, 1], color='orange')\n",
    "axes[1, 1].set_title('Boxplot of Feature 2')\n",
    "\n",
    "# Plot 6: Correlation heatmap\n",
    "correlation_matrix = data.corr()\n",
    "sns.heatmap(correlation_matrix, annot=True, cmap='coolwarm', fmt='.2f', ax=axes[1, 2])\n",
    "axes[1, 2].set_title('Correlation Heatmap')\n",
    "\n",
    "# Adjust layout to prevent overlap\n",
    "plt.tight_layout()\n",
    "\n",
    "# Save the figure as a PNG file\n",
    "plt.savefig('data_overview.png')\n",
    "\n",
    "# Show the plot (optional)\n",
    "plt.show()\n"
   ]
  }
 ],
 "metadata": {
  "language_info": {
   "name": "python"
  }
 },
 "nbformat": 4,
 "nbformat_minor": 2
}
